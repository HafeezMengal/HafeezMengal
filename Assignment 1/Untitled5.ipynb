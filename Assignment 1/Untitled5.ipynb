{
 "cells": [
  {
   "cell_type": "code",
   "execution_count": 2,
   "id": "81075bd1",
   "metadata": {},
   "outputs": [
    {
     "name": "stdout",
     "output_type": "stream",
     "text": [
      " Enter your First name:Hafeez \n",
      "Enter your Last name:Mengal\n",
      "Name: Mengal Hafeez \n"
     ]
    }
   ],
   "source": [
    "fname= input(\" Enter your First name:\")\n",
    "lname= input(\"Enter your Last name:\")\n",
    "print(\"Name: \" + lname + \" \" + fname)"
   ]
  },
  {
   "cell_type": "code",
   "execution_count": 23,
   "id": "91f09ec2",
   "metadata": {},
   "outputs": [
    {
     "name": "stdout",
     "output_type": "stream",
     "text": [
      "Please Enter your First Number:5\n",
      "Please Enter your Second Number:5\n",
      "You have entered: 10\n"
     ]
    }
   ],
   "source": [
    "a= int(input(\"Please Enter your First Number:\"))\n",
    "b= int(input(\"Please Enter your Second Number:\"))\n",
    "c= a + b\n",
    "print(\"You have entered:\", c )"
   ]
  },
  {
   "cell_type": "code",
   "execution_count": null,
   "id": "290c9d66",
   "metadata": {},
   "outputs": [],
   "source": []
  },
  {
   "cell_type": "code",
   "execution_count": null,
   "id": "11c02f2f",
   "metadata": {},
   "outputs": [],
   "source": []
  }
 ],
 "metadata": {
  "kernelspec": {
   "display_name": "Python 3 (ipykernel)",
   "language": "python",
   "name": "python3"
  },
  "language_info": {
   "codemirror_mode": {
    "name": "ipython",
    "version": 3
   },
   "file_extension": ".py",
   "mimetype": "text/x-python",
   "name": "python",
   "nbconvert_exporter": "python",
   "pygments_lexer": "ipython3",
   "version": "3.9.7"
  }
 },
 "nbformat": 4,
 "nbformat_minor": 5
}
