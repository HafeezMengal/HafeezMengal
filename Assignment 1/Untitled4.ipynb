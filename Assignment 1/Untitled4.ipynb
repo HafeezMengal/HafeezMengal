{
 "cells": [
  {
   "cell_type": "code",
   "execution_count": 1,
   "id": "089ab203",
   "metadata": {},
   "outputs": [
    {
     "name": "stdout",
     "output_type": "stream",
     "text": [
      "Enter the rauid of the circle: 6\n",
      "Area of a circle is = 113.04000=\n"
     ]
    }
   ],
   "source": [
    "PI= 3.14\n",
    "r= float(input(\"Enter the rauid of the circle: \"))\n",
    "area = PI*r*r\n",
    "print(\"Area of a circle is = %.5f=\" %area)"
   ]
  },
  {
   "cell_type": "code",
   "execution_count": 12,
   "id": "54f0f494",
   "metadata": {},
   "outputs": [
    {
     "name": "stdout",
     "output_type": "stream",
     "text": [
      "Enter your First name:hafeez \n",
      "Enter your Last name:mengal\n",
      "Name: mengal hafeez \n"
     ]
    }
   ],
   "source": [
    "fname= input(\"Enter your First name:\")\n",
    "lname= input(\"Enter your Last name:\")\n",
    "print(\"Name: \" + lname + \" \" + fname)"
   ]
  },
  {
   "cell_type": "code",
   "execution_count": null,
   "id": "28258aa9",
   "metadata": {},
   "outputs": [],
   "source": []
  }
 ],
 "metadata": {
  "kernelspec": {
   "display_name": "Python 3 (ipykernel)",
   "language": "python",
   "name": "python3"
  },
  "language_info": {
   "codemirror_mode": {
    "name": "ipython",
    "version": 3
   },
   "file_extension": ".py",
   "mimetype": "text/x-python",
   "name": "python",
   "nbconvert_exporter": "python",
   "pygments_lexer": "ipython3",
   "version": "3.9.7"
  }
 },
 "nbformat": 4,
 "nbformat_minor": 5
}
