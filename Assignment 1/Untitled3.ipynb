{
 "cells": [
  {
   "cell_type": "code",
   "execution_count": 1,
   "id": "581e65d4",
   "metadata": {},
   "outputs": [
    {
     "name": "stdout",
     "output_type": "stream",
     "text": [
      "Today date and Current Time is: 2021-12-29 13:26:31.960355\n"
     ]
    }
   ],
   "source": [
    "from datetime import datetime\n",
    "today = datetime.today()\n",
    "print(\"Today date and Current Time is:\", today)"
   ]
  },
  {
   "cell_type": "code",
   "execution_count": 9,
   "id": "5b649dd0",
   "metadata": {},
   "outputs": [
    {
     "ename": "SyntaxError",
     "evalue": "EOL while scanning string literal (Temp/ipykernel_22688/2147809372.py, line 4)",
     "output_type": "error",
     "traceback": [
      "\u001b[1;36m  File \u001b[1;32m\"C:\\Users\\HAFEEZ~1\\AppData\\Local\\Temp/ipykernel_22688/2147809372.py\"\u001b[1;36m, line \u001b[1;32m4\u001b[0m\n\u001b[1;33m    print(\"Area ofd a circle is = %.5f=\"\" %area)\u001b[0m\n\u001b[1;37m                                                ^\u001b[0m\n\u001b[1;31mSyntaxError\u001b[0m\u001b[1;31m:\u001b[0m EOL while scanning string literal\n"
     ]
    }
   ],
   "source": [
    "PI= 8.56\n",
    "r= float(input(\"Enter the rauid of the circle: \"))\n",
    "area = PI*r*r\n",
    "print(\"Area ofd a circle is = %.5f=\"\" %area)"
   ]
  },
  {
   "cell_type": "code",
   "execution_count": 10,
   "id": "d37d8fed",
   "metadata": {},
   "outputs": [
    {
     "name": "stdout",
     "output_type": "stream",
     "text": [
      "Enter the rauid of the circle: 5\n",
      "Area of a circle is = 78.50000=\n"
     ]
    }
   ],
   "source": [
    "PI= 3.14\n",
    "r= float(input(\"Enter the rauid of the circle: \"))\n",
    "area = PI*r*r\n",
    "print(\"Area of a circle is = %.5f=\" %area)"
   ]
  },
  {
   "cell_type": "code",
   "execution_count": null,
   "id": "6e92e62e",
   "metadata": {},
   "outputs": [],
   "source": []
  },
  {
   "cell_type": "code",
   "execution_count": null,
   "id": "2c827334",
   "metadata": {},
   "outputs": [],
   "source": [
    "5"
   ]
  }
 ],
 "metadata": {
  "kernelspec": {
   "display_name": "Python 3 (ipykernel)",
   "language": "python",
   "name": "python3"
  },
  "language_info": {
   "codemirror_mode": {
    "name": "ipython",
    "version": 3
   },
   "file_extension": ".py",
   "mimetype": "text/x-python",
   "name": "python",
   "nbconvert_exporter": "python",
   "pygments_lexer": "ipython3",
   "version": "3.9.7"
  }
 },
 "nbformat": 4,
 "nbformat_minor": 5
}
