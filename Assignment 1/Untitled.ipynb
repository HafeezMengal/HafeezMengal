{
 "cells": [
  {
   "cell_type": "code",
   "execution_count": 1,
   "id": "666645de",
   "metadata": {},
   "outputs": [
    {
     "ename": "SyntaxError",
     "evalue": "unexpected character after line continuation character (Temp/ipykernel_5672/3288491538.py, line 1)",
     "output_type": "error",
     "traceback": [
      "\u001b[1;36m  File \u001b[1;32m\"C:\\Users\\HAFEEZ~1\\AppData\\Local\\Temp/ipykernel_5672/3288491538.py\"\u001b[1;36m, line \u001b[1;32m1\u001b[0m\n\u001b[1;33m    a=(\"Twinkle, twinkl, littler star,\" \\ \" How I wonder what you are!\");\u001b[0m\n\u001b[1;37m                                                                        ^\u001b[0m\n\u001b[1;31mSyntaxError\u001b[0m\u001b[1;31m:\u001b[0m unexpected character after line continuation character\n"
     ]
    }
   ],
   "source": [
    "a=(\"Twinkle, twinkl, littler star,\" \\ \" How I wonder what you are!\");"
   ]
  },
  {
   "cell_type": "code",
   "execution_count": 2,
   "id": "dce3e021",
   "metadata": {},
   "outputs": [
    {
     "ename": "SyntaxError",
     "evalue": "unexpected character after line continuation character (Temp/ipykernel_5672/2880857749.py, line 1)",
     "output_type": "error",
     "traceback": [
      "\u001b[1;36m  File \u001b[1;32m\"C:\\Users\\HAFEEZ~1\\AppData\\Local\\Temp/ipykernel_5672/2880857749.py\"\u001b[1;36m, line \u001b[1;32m1\u001b[0m\n\u001b[1;33m    a=(\"Twinkle, twinkl, littler star,\" \\ \" How I wonder what you are!\");\u001b[0m\n\u001b[1;37m                                                                        ^\u001b[0m\n\u001b[1;31mSyntaxError\u001b[0m\u001b[1;31m:\u001b[0m unexpected character after line continuation character\n"
     ]
    }
   ],
   "source": [
    "a=(\"Twinkle, twinkl, littler star,\" \\ \" How I wonder what you are!\");\n",
    "print(a);\n"
   ]
  },
  {
   "cell_type": "code",
   "execution_count": 3,
   "id": "058fee47",
   "metadata": {},
   "outputs": [
    {
     "ename": "SyntaxError",
     "evalue": "invalid syntax (Temp/ipykernel_5672/308191868.py, line 1)",
     "output_type": "error",
     "traceback": [
      "\u001b[1;36m  File \u001b[1;32m\"C:\\Users\\HAFEEZ~1\\AppData\\Local\\Temp/ipykernel_5672/308191868.py\"\u001b[1;36m, line \u001b[1;32m1\u001b[0m\n\u001b[1;33m    a=(\"Twinkle, twinkl, littler star,\" t\\ \" How I wonder what you are!\");\u001b[0m\n\u001b[1;37m                                        ^\u001b[0m\n\u001b[1;31mSyntaxError\u001b[0m\u001b[1;31m:\u001b[0m invalid syntax\n"
     ]
    }
   ],
   "source": [
    "a=(\"Twinkle, twinkl, littler star,\" t\\ \" How I wonder what you are!\");\n",
    "print(a)"
   ]
  },
  {
   "cell_type": "code",
   "execution_count": 4,
   "id": "684a1c31",
   "metadata": {},
   "outputs": [
    {
     "ename": "SyntaxError",
     "evalue": "unexpected character after line continuation character (Temp/ipykernel_5672/2098616330.py, line 1)",
     "output_type": "error",
     "traceback": [
      "\u001b[1;36m  File \u001b[1;32m\"C:\\Users\\HAFEEZ~1\\AppData\\Local\\Temp/ipykernel_5672/2098616330.py\"\u001b[1;36m, line \u001b[1;32m1\u001b[0m\n\u001b[1;33m    a=(\"Twinkle, twinkl, littler star,\" \\ \" How I wonder what you are!\")\u001b[0m\n\u001b[1;37m                                                                       ^\u001b[0m\n\u001b[1;31mSyntaxError\u001b[0m\u001b[1;31m:\u001b[0m unexpected character after line continuation character\n"
     ]
    }
   ],
   "source": [
    "a=(\"Twinkle, twinkl, littler star,\" \\ \" How I wonder what you are!\")\n",
    "print(a)\n"
   ]
  },
  {
   "cell_type": "code",
   "execution_count": 5,
   "id": "aa3a1b15",
   "metadata": {},
   "outputs": [
    {
     "ename": "SyntaxError",
     "evalue": "unexpected character after line continuation character (Temp/ipykernel_5672/3507243075.py, line 1)",
     "output_type": "error",
     "traceback": [
      "\u001b[1;36m  File \u001b[1;32m\"C:\\Users\\HAFEEZ~1\\AppData\\Local\\Temp/ipykernel_5672/3507243075.py\"\u001b[1;36m, line \u001b[1;32m1\u001b[0m\n\u001b[1;33m    a=(\"Twinkle, twinkl, littler star,\" \\n \" How I wonder what you are!\")\u001b[0m\n\u001b[1;37m                                                                        ^\u001b[0m\n\u001b[1;31mSyntaxError\u001b[0m\u001b[1;31m:\u001b[0m unexpected character after line continuation character\n"
     ]
    }
   ],
   "source": [
    "a=(\"Twinkle, twinkl, littler star,\" \\n \" How I wonder what you are!\")\n",
    "print(a)"
   ]
  },
  {
   "cell_type": "code",
   "execution_count": 6,
   "id": "dac04933",
   "metadata": {},
   "outputs": [
    {
     "name": "stdout",
     "output_type": "stream",
     "text": [
      "Twinkle, twinkl, littler star, \\  How I wonder what you are!\n"
     ]
    }
   ],
   "source": [
    "a=(\"Twinkle, twinkl, littler star, \\  How I wonder what you are!\")\n",
    "print(a)"
   ]
  },
  {
   "cell_type": "code",
   "execution_count": 7,
   "id": "6abcb4cc",
   "metadata": {},
   "outputs": [
    {
     "ename": "SyntaxError",
     "evalue": "unexpected character after line continuation character (Temp/ipykernel_5672/521178160.py, line 1)",
     "output_type": "error",
     "traceback": [
      "\u001b[1;36m  File \u001b[1;32m\"C:\\Users\\HAFEEZ~1\\AppData\\Local\\Temp/ipykernel_5672/521178160.py\"\u001b[1;36m, line \u001b[1;32m1\u001b[0m\n\u001b[1;33m    a=(\"Twinkle, twinkl, littler star,\") \\n (\" How I wonder what you are!\")\u001b[0m\n\u001b[1;37m                                                                          ^\u001b[0m\n\u001b[1;31mSyntaxError\u001b[0m\u001b[1;31m:\u001b[0m unexpected character after line continuation character\n"
     ]
    }
   ],
   "source": [
    "a=(\"Twinkle, twinkl, littler star,\") \\n (\" How I wonder what you are!\")\n",
    "print(a)"
   ]
  },
  {
   "cell_type": "code",
   "execution_count": 8,
   "id": "ee3c58ae",
   "metadata": {},
   "outputs": [
    {
     "ename": "SyntaxError",
     "evalue": "unexpected character after line continuation character (Temp/ipykernel_5672/2480833437.py, line 1)",
     "output_type": "error",
     "traceback": [
      "\u001b[1;36m  File \u001b[1;32m\"C:\\Users\\HAFEEZ~1\\AppData\\Local\\Temp/ipykernel_5672/2480833437.py\"\u001b[1;36m, line \u001b[1;32m1\u001b[0m\n\u001b[1;33m    a=(\"Twinkle, twinkl, littler star,\") \\ (\" How I wonder what you are!\")\u001b[0m\n\u001b[1;37m                                                                         ^\u001b[0m\n\u001b[1;31mSyntaxError\u001b[0m\u001b[1;31m:\u001b[0m unexpected character after line continuation character\n"
     ]
    }
   ],
   "source": [
    "a=(\"Twinkle, twinkl, littler star,\") \\ (\" How I wonder what you are!\")\n",
    "print(a)"
   ]
  },
  {
   "cell_type": "code",
   "execution_count": 9,
   "id": "bc04324f",
   "metadata": {},
   "outputs": [
    {
     "ename": "SyntaxError",
     "evalue": "unexpected character after line continuation character (Temp/ipykernel_5672/619204962.py, line 1)",
     "output_type": "error",
     "traceback": [
      "\u001b[1;36m  File \u001b[1;32m\"C:\\Users\\HAFEEZ~1\\AppData\\Local\\Temp/ipykernel_5672/619204962.py\"\u001b[1;36m, line \u001b[1;32m1\u001b[0m\n\u001b[1;33m    a=(\"Twinkle, twinkl, littler star,\") \\n (\" How I wonder what you are!\");\u001b[0m\n\u001b[1;37m                                                                           ^\u001b[0m\n\u001b[1;31mSyntaxError\u001b[0m\u001b[1;31m:\u001b[0m unexpected character after line continuation character\n"
     ]
    }
   ],
   "source": [
    "a=(\"Twinkle, twinkl, littler star,\") \\n (\" How I wonder what you are!\");\n",
    "print(a)"
   ]
  },
  {
   "cell_type": "code",
   "execution_count": 10,
   "id": "3c9b0bf3",
   "metadata": {},
   "outputs": [
    {
     "name": "stdout",
     "output_type": "stream",
     "text": [
      "Twinkle, twinkl, littler star, \n",
      " How I wonder what you are!\n"
     ]
    }
   ],
   "source": [
    "a=(\"Twinkle, twinkl, littler star, \\n How I wonder what you are!\")\n",
    "print(a)"
   ]
  },
  {
   "cell_type": "code",
   "execution_count": 11,
   "id": "1cbd8037",
   "metadata": {},
   "outputs": [
    {
     "name": "stdout",
     "output_type": "stream",
     "text": [
      "Twinkle, twinkl, littler star, \n",
      " How I wonder what you are! \\n Up above the world so high\n"
     ]
    }
   ],
   "source": [
    "a=(\"Twinkle, twinkl, littler star, \\n How I wonder what you are! \\\\n Up above the world so high\")\n",
    "print(a)"
   ]
  },
  {
   "cell_type": "code",
   "execution_count": 12,
   "id": "84521635",
   "metadata": {},
   "outputs": [
    {
     "name": "stdout",
     "output_type": "stream",
     "text": [
      "Twinkle, twinkl, littler star, \n",
      " How I wonder what you are! \\n Up above the world so high\n"
     ]
    }
   ],
   "source": [
    "a=(\"Twinkle, twinkl, littler star, \\n How I wonder what you are! \\\\n Up above the world so high\")\n",
    "print(a)"
   ]
  },
  {
   "cell_type": "code",
   "execution_count": 13,
   "id": "af9f8c29",
   "metadata": {},
   "outputs": [
    {
     "name": "stdout",
     "output_type": "stream",
     "text": [
      "Twinkle, twinkl, littler star, \n",
      " How I wonder what you are! \n",
      " Up above the world so high\n"
     ]
    }
   ],
   "source": [
    "a=(\"Twinkle, twinkl, littler star, \\n How I wonder what you are! \\n Up above the world so high\")\n",
    "print(a)"
   ]
  },
  {
   "cell_type": "code",
   "execution_count": 14,
   "id": "e41435c2",
   "metadata": {},
   "outputs": [
    {
     "name": "stdout",
     "output_type": "stream",
     "text": [
      "Twinkle, twinkl, littler star, \n",
      " How I wonder what you are! \n",
      " \n",
      " Up above the world so high\n"
     ]
    }
   ],
   "source": [
    "a=(\"Twinkle, twinkl, littler star, \\n How I wonder what you are! \\n \\n Up above the world so high\")\n",
    "print(a)"
   ]
  },
  {
   "cell_type": "code",
   "execution_count": 15,
   "id": "0792b18e",
   "metadata": {},
   "outputs": [
    {
     "name": "stdout",
     "output_type": "stream",
     "text": [
      "Twinkle, twinkl, littler star, \n",
      " How I wonder what you are! \n",
      " \t Up above the world so high\n"
     ]
    }
   ],
   "source": [
    "a=(\"Twinkle, twinkl, littler star, \\n How I wonder what you are! \\n \\t Up above the world so high\")\n",
    "print(a)"
   ]
  },
  {
   "cell_type": "code",
   "execution_count": null,
   "id": "be150ea6",
   "metadata": {},
   "outputs": [],
   "source": []
  }
 ],
 "metadata": {
  "kernelspec": {
   "display_name": "Python 3 (ipykernel)",
   "language": "python",
   "name": "python3"
  },
  "language_info": {
   "codemirror_mode": {
    "name": "ipython",
    "version": 3
   },
   "file_extension": ".py",
   "mimetype": "text/x-python",
   "name": "python",
   "nbconvert_exporter": "python",
   "pygments_lexer": "ipython3",
   "version": "3.9.7"
  }
 },
 "nbformat": 4,
 "nbformat_minor": 5
}
